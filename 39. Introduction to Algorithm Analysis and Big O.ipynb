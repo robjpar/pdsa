{
 "cells": [
  {
   "cell_type": "code",
   "execution_count": 1,
   "metadata": {},
   "outputs": [],
   "source": [
    "def sum1(n):\n",
    "    final_sum = 0\n",
    "    \n",
    "    for x in range(n + 1):\n",
    "        final_sum += x\n",
    "        \n",
    "    return final_sum"
   ]
  },
  {
   "cell_type": "code",
   "execution_count": 20,
   "metadata": {},
   "outputs": [
    {
     "data": {
      "text/plain": [
       "range(0, 10)"
      ]
     },
     "execution_count": 20,
     "metadata": {},
     "output_type": "execute_result"
    }
   ],
   "source": [
    "range(10)"
   ]
  },
  {
   "cell_type": "code",
   "execution_count": 19,
   "metadata": {},
   "outputs": [
    {
     "data": {
      "text/plain": [
       "[0, 1, 2, 3, 4, 5, 6, 7, 8, 9]"
      ]
     },
     "execution_count": 19,
     "metadata": {},
     "output_type": "execute_result"
    }
   ],
   "source": [
    "[n for n in range(10)]"
   ]
  },
  {
   "cell_type": "code",
   "execution_count": 2,
   "metadata": {},
   "outputs": [
    {
     "data": {
      "text/plain": [
       "55"
      ]
     },
     "execution_count": 2,
     "metadata": {},
     "output_type": "execute_result"
    }
   ],
   "source": [
    "sum1(10)"
   ]
  },
  {
   "cell_type": "code",
   "execution_count": 3,
   "metadata": {},
   "outputs": [],
   "source": [
    "def sum2(n):\n",
    "    return (n * (n + 1))//2"
   ]
  },
  {
   "cell_type": "code",
   "execution_count": 4,
   "metadata": {
    "scrolled": true
   },
   "outputs": [
    {
     "data": {
      "text/plain": [
       "55"
      ]
     },
     "execution_count": 4,
     "metadata": {},
     "output_type": "execute_result"
    }
   ],
   "source": [
    "sum2(10)"
   ]
  },
  {
   "cell_type": "code",
   "execution_count": 17,
   "metadata": {
    "scrolled": false
   },
   "outputs": [
    {
     "name": "stdout",
     "output_type": "stream",
     "text": [
      "1: 265 ns ± 4.27 ns per loop (mean ± std. dev. of 7 runs, 1000000 loops each)\n",
      "101: 2.91 µs ± 44.8 ns per loop (mean ± std. dev. of 7 runs, 100000 loops each)\n",
      "201: 5.66 µs ± 134 ns per loop (mean ± std. dev. of 7 runs, 100000 loops each)\n",
      "301: 9.12 µs ± 410 ns per loop (mean ± std. dev. of 7 runs, 100000 loops each)\n",
      "401: 12.4 µs ± 384 ns per loop (mean ± std. dev. of 7 runs, 100000 loops each)\n",
      "501: 17.6 µs ± 2.85 µs per loop (mean ± std. dev. of 7 runs, 100000 loops each)\n",
      "601: 20 µs ± 608 ns per loop (mean ± std. dev. of 7 runs, 10000 loops each)\n",
      "701: 28.4 µs ± 6.68 µs per loop (mean ± std. dev. of 7 runs, 10000 loops each)\n",
      "801: 26.1 µs ± 488 ns per loop (mean ± std. dev. of 7 runs, 10000 loops each)\n",
      "901: 29.2 µs ± 260 ns per loop (mean ± std. dev. of 7 runs, 10000 loops each)\n"
     ]
    }
   ],
   "source": [
    "for n in range(1, 1000, 100):\n",
    "    print(f'{n}: ', end='')\n",
    "    %timeit sum1(n)"
   ]
  },
  {
   "cell_type": "code",
   "execution_count": 18,
   "metadata": {
    "scrolled": true
   },
   "outputs": [
    {
     "name": "stdout",
     "output_type": "stream",
     "text": [
      "1: 108 ns ± 0.904 ns per loop (mean ± std. dev. of 7 runs, 10000000 loops each)\n",
      "101: 108 ns ± 2.85 ns per loop (mean ± std. dev. of 7 runs, 10000000 loops each)\n",
      "201: 110 ns ± 3.72 ns per loop (mean ± std. dev. of 7 runs, 10000000 loops each)\n",
      "301: 134 ns ± 13.7 ns per loop (mean ± std. dev. of 7 runs, 10000000 loops each)\n",
      "401: 114 ns ± 1.47 ns per loop (mean ± std. dev. of 7 runs, 10000000 loops each)\n",
      "501: 117 ns ± 12.5 ns per loop (mean ± std. dev. of 7 runs, 10000000 loops each)\n",
      "601: 121 ns ± 12.3 ns per loop (mean ± std. dev. of 7 runs, 10000000 loops each)\n",
      "701: 125 ns ± 0.744 ns per loop (mean ± std. dev. of 7 runs, 10000000 loops each)\n",
      "801: 145 ns ± 30.8 ns per loop (mean ± std. dev. of 7 runs, 10000000 loops each)\n",
      "901: 132 ns ± 13.7 ns per loop (mean ± std. dev. of 7 runs, 10000000 loops each)\n"
     ]
    }
   ],
   "source": [
    "for n in range(1, 1000, 100):\n",
    "    print(f'{n}: ', end='')\n",
    "    %timeit sum2(1000)"
   ]
  }
 ],
 "metadata": {
  "kernelspec": {
   "display_name": "Python 3",
   "language": "python",
   "name": "python3"
  },
  "language_info": {
   "codemirror_mode": {
    "name": "ipython",
    "version": 3
   },
   "file_extension": ".py",
   "mimetype": "text/x-python",
   "name": "python",
   "nbconvert_exporter": "python",
   "pygments_lexer": "ipython3",
   "version": "3.8.3"
  }
 },
 "nbformat": 4,
 "nbformat_minor": 4
}
