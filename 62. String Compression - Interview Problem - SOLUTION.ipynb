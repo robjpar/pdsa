{
 "cells": [
  {
   "cell_type": "code",
   "execution_count": 25,
   "metadata": {},
   "outputs": [],
   "source": [
    "def compress(s):\n",
    "    r = ''\n",
    "    l = len(s)\n",
    "    \n",
    "    if l == 0:\n",
    "        return ''\n",
    "    \n",
    "    if l == 1:\n",
    "        return s + '1'\n",
    "    \n",
    "    i = 1\n",
    "    cnt = 1\n",
    "    while i < l:\n",
    "        if s[i] == s[i - 1]:\n",
    "            cnt += 1\n",
    "        else:\n",
    "            r += s[i - 1] + str(cnt)\n",
    "            cnt = 1\n",
    "            \n",
    "        i += 1\n",
    "        \n",
    "    r += s[i - 1] + str(cnt)\n",
    "    \n",
    "    return r"
   ]
  },
  {
   "cell_type": "code",
   "execution_count": 26,
   "metadata": {},
   "outputs": [
    {
     "data": {
      "text/plain": [
       "'A2b3C2D1'"
      ]
     },
     "execution_count": 26,
     "metadata": {},
     "output_type": "execute_result"
    }
   ],
   "source": [
    "compress('AAbbbCCD')"
   ]
  },
  {
   "cell_type": "code",
   "execution_count": null,
   "metadata": {},
   "outputs": [],
   "source": []
  }
 ],
 "metadata": {
  "kernelspec": {
   "display_name": "Python 3",
   "language": "python",
   "name": "python3"
  },
  "language_info": {
   "codemirror_mode": {
    "name": "ipython",
    "version": 3
   },
   "file_extension": ".py",
   "mimetype": "text/x-python",
   "name": "python",
   "nbconvert_exporter": "python",
   "pygments_lexer": "ipython3",
   "version": "3.8.3"
  }
 },
 "nbformat": 4,
 "nbformat_minor": 4
}
